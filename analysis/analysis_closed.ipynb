{
 "cells": [
  {
   "cell_type": "code",
   "execution_count": 1,
   "metadata": {},
   "outputs": [],
   "source": [
    "from scipy import stats\n",
    "import matplotlib.pyplot as plt\n",
    "import os\n",
    "import pickle\n",
    "import numpy as np"
   ]
  },
  {
   "cell_type": "markdown",
   "metadata": {},
   "source": [
    "### Hallucination Quantification (SelfCheckGPT)"
   ]
  },
  {
   "cell_type": "code",
   "execution_count": null,
   "metadata": {},
   "outputs": [],
   "source": [
    "precision = 3\n",
    "path_to_metrics = '/home/prasoon/snap/main/mtp/results/metrics/'\n",
    "metric = 'bert_scorer'\n",
    "models = ['all-MiniLM-L6-v2', 'all-mpnet-base-v2']\n",
    "model_info = {}\n",
    "for model_index in range(2):\n",
    "    model = models[model_index]\n",
    "    model_info[model] = {}\n",
    "    print(model)\n",
    "    for file_index in range(len(os.listdir(path_to_metrics + metric + '/' + model))):\n",
    "        file = os.listdir(path_to_metrics + metric + '/' + model)[file_index]\n",
    "        response_model = file.split('.')[0]\n",
    "        plot_data = []\n",
    "        with open(path_to_metrics + metric + '/' + model + '/' + file, 'rb') as handle:\n",
    "            result = pickle.load(handle)\n",
    "        for main_response_index in range(len(result)):\n",
    "            plot_data.append(np.mean(result[main_response_index]))\n",
    "        model_info[model][response_model] = np.array(plot_data)"
   ]
  },
  {
   "cell_type": "code",
   "execution_count": null,
   "metadata": {},
   "outputs": [],
   "source": [
    "\n",
    "fig, ax = plt.subplots(1, 2, figsize = (20, 5))\n",
    "ax[0].tick_params(labelsize=14)\n",
    "ax[1].tick_params(labelsize=14)\n",
    "values = np.linspace(0, 1, 10)\n",
    "colors = ['blue', 'green', 'red']\n",
    "response_models = ['kglm-text-davinci-003', 'gpt-4-turbo', 'gpt-35']\n",
    "print(response_models)\n",
    "\n",
    "plot_labels = {'kglm-text-davinci-003': 'text-davinci-003', 'gpt-4-turbo': 'GPT-4 Turbo', 'gpt-35': 'GPT-3.5 Turbo'}\n",
    "for model_index in range(2):\n",
    "    # for each bert model chosen for calculating semantic similarity \n",
    "    model = models[model_index]\n",
    "    print(model) \n",
    "    non_nan_indices = np.where(~np.isnan(model_info[model][response_models[0]]) & ~np.isnan(model_info[model][response_models[1]]) & ~np.isnan(model_info[model][response_models[2]]))[0]\n",
    "    for file_index in range(len(os.listdir(path_to_metrics + metric + '/' + model))):\n",
    "        file = os.listdir(path_to_metrics + metric + '/' + model)[file_index]\n",
    "\n",
    "        response_model = file.split('.')[0]\n",
    "        plot_data = model_info[model][response_model][non_nan_indices]\n",
    "        kde = stats.gaussian_kde(plot_data)\n",
    "        \n",
    "        ax[model_index].hist(plot_data, color = colors[file_index], density=True, bins=25, alpha=0.2)\n",
    "        ax[model_index].plot(np.linspace(0, 1, 1000), kde(np.linspace(0, 1, 1000)), c = colors[file_index], label = plot_labels[response_model])\n",
    "        # ax[model_index].set_title('SelfGPTCheck BertScore with '+ model)\n",
    "        ax[model_index].legend(fontsize = 17 , bbox_to_anchor=(1, 1))\n",
    "        ax[model_index].set_xlabel('Hallucination score', fontsize = 18)\n",
    "        ax[model_index].set_ylabel('Count', fontsize = 18)\n",
    "        mean = np.mean(plot_data)\n",
    "        std = np.std(plot_data)\n",
    "        print(\"{:.{}f}\".format(mean, precision), \"{:.{}f}\".format(std, precision))\n",
    "        \n",
    "        \n",
    "        path_to_plots = '/home/prasoon/snap/main/mtp/codes/main/plots/hallucination_metrics/bert_score' \n",
    "        extent = ax[model_index].get_window_extent().transformed(fig.dpi_scale_trans.inverted())\n",
    "        fig.savefig(path_to_plots + '/' + model + '.pdf', format = 'pdf', bbox_inches=extent.expanded(1.2, 1.3))\n",
    "        \n",
    "        \n",
    "plt.show()\n"
   ]
  }
 ],
 "metadata": {
  "kernelspec": {
   "display_name": "Python 3",
   "language": "python",
   "name": "python3"
  },
  "language_info": {
   "codemirror_mode": {
    "name": "ipython",
    "version": 3
   },
   "file_extension": ".py",
   "mimetype": "text/x-python",
   "name": "python",
   "nbconvert_exporter": "python",
   "pygments_lexer": "ipython3",
   "version": "3.10.6"
  },
  "orig_nbformat": 4
 },
 "nbformat": 4,
 "nbformat_minor": 2
}
