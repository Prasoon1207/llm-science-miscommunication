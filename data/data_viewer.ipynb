{
 "cells": [
  {
   "cell_type": "code",
   "execution_count": 2,
   "metadata": {},
   "outputs": [],
   "source": [
    "import matplotlib.pyplot as plt\n",
    "import pandas as pd"
   ]
  },
  {
   "cell_type": "code",
   "execution_count": 7,
   "metadata": {},
   "outputs": [
    {
     "name": "stdout",
     "output_type": "stream",
     "text": [
      "SUBJECT | CLOSED | OPEN\n",
      "mathematics 140 143\n",
      "astronomy 15 0\n",
      "economics 1 6\n",
      "chemistry 132 0\n",
      "theoreticalcs 26 22\n",
      "physics 195 47\n",
      "biology 1 14\n"
     ]
    }
   ],
   "source": [
    "df = pd.read_csv('data.csv')\n",
    "print(\"SUBJECT | CLOSED | OPEN\")\n",
    "subjects = list(set(list(df['subject'])))\n",
    "# number of open and closed questions per subject\n",
    "for subject in subjects:\n",
    "    print(subject, end = \" \")\n",
    "    subject_df = df[df['subject'] == subject]\n",
    "    print(subject_df[subject_df['answer'] != 'C'].shape[0], end = \" \")\n",
    "    print(subject_df[subject_df['answer'] == 'C'].shape[0])"
   ]
  }
 ],
 "metadata": {
  "kernelspec": {
   "display_name": "Python 3",
   "language": "python",
   "name": "python3"
  },
  "language_info": {
   "codemirror_mode": {
    "name": "ipython",
    "version": 3
   },
   "file_extension": ".py",
   "mimetype": "text/x-python",
   "name": "python",
   "nbconvert_exporter": "python",
   "pygments_lexer": "ipython3",
   "version": "3.10.6"
  },
  "orig_nbformat": 4
 },
 "nbformat": 4,
 "nbformat_minor": 2
}
