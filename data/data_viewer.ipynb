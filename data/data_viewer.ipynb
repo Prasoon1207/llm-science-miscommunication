{
 "cells": [
  {
   "cell_type": "code",
   "execution_count": 11,
   "metadata": {},
   "outputs": [],
   "source": [
    "import matplotlib.pyplot as plt\n",
    "import pandas as pd"
   ]
  },
  {
   "cell_type": "code",
   "execution_count": 21,
   "metadata": {},
   "outputs": [
    {
     "name": "stdout",
     "output_type": "stream",
     "text": [
      "SUBJECT | OPEN | CLOSED\n",
      "mathematics 143 140\n",
      "physics 47 195\n",
      "theoreticalcs 22 26\n",
      "astronomy 0 15\n",
      "economics 6 1\n",
      "chemistry 0 132\n",
      "biology 14 1\n"
     ]
    }
   ],
   "source": [
    "df = pd.read_csv('data.csv')\n",
    "print(\"SUBJECT | OPEN | CLOSED\")\n",
    "subjects = list(set(list(df['subject'])))\n",
    "# number of open and closed questions per subject\n",
    "for subject in subjects:\n",
    "    print(subject, end = \" \")\n",
    "    subject_df = df[df['subject'] == subject]\n",
    "    print(subject_df[subject_df['answer'] == 'C'].shape[0], end = \" \")\n",
    "    print(subject_df[subject_df['answer'] != 'C'].shape[0])"
   ]
  },
  {
   "cell_type": "code",
   "execution_count": 22,
   "metadata": {},
   "outputs": [],
   "source": [
    "# private sanity check\n",
    "for index, row in df.iterrows():\n",
    "    assert(df.loc[index]['answer'] in ['A', 'B', 'C'])"
   ]
  }
 ],
 "metadata": {
  "kernelspec": {
   "display_name": "Python 3",
   "language": "python",
   "name": "python3"
  },
  "language_info": {
   "codemirror_mode": {
    "name": "ipython",
    "version": 3
   },
   "file_extension": ".py",
   "mimetype": "text/x-python",
   "name": "python",
   "nbconvert_exporter": "python",
   "pygments_lexer": "ipython3",
   "version": "3.10.6"
  },
  "orig_nbformat": 4
 },
 "nbformat": 4,
 "nbformat_minor": 2
}
