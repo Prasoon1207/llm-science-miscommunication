{
 "cells": [
  {
   "cell_type": "code",
   "execution_count": 2,
   "metadata": {},
   "outputs": [],
   "source": [
    "import matplotlib.pyplot as plt\n",
    "import pandas as pd"
   ]
  },
  {
   "cell_type": "code",
   "execution_count": 6,
   "metadata": {},
   "outputs": [
    {
     "name": "stdout",
     "output_type": "stream",
     "text": [
      "SUBJECT | CLOSED | OPEN\n",
      "mathematics 283\n",
      "140 143\n",
      "astronomy 15\n",
      "15 0\n",
      "economics 7\n",
      "1 6\n",
      "chemistry 132\n",
      "132 0\n",
      "theoreticalcs 48\n",
      "26 22\n",
      "physics 242\n",
      "195 47\n",
      "biology 15\n",
      "1 14\n",
      "742\n"
     ]
    }
   ],
   "source": [
    "df = pd.read_csv('data.csv')\n",
    "print(\"SUBJECT | CLOSED | OPEN\")\n",
    "subjects = list(set(list(df['subject'])))\n",
    "# number of open and closed questions per subject\n",
    "for subject in subjects:\n",
    "    print(subject, end = \" \")\n",
    "    subject_df = df[df['subject'] == subject]\n",
    "    print(subject_df[subject_df['answer'] != 'C'].shape[0], end = \" \")\n",
    "    print(subject_df[subject_df['answer'] == 'C'].shape[0])\n"
   ]
  }
}
